{
 "cells": [
  {
   "cell_type": "code",
   "execution_count": 2,
   "id": "010dcc89-ed9c-4fb3-8509-1addcfe7ae43",
   "metadata": {},
   "outputs": [
    {
     "name": "stdout",
     "output_type": "stream",
     "text": [
      "Requirement already satisfied: requests in c:\\users\\julliet nyaware\\appdata\\local\\programs\\python\\python312\\lib\\site-packages (2.32.3)\n",
      "Requirement already satisfied: beautifulsoup4 in c:\\users\\julliet nyaware\\appdata\\local\\programs\\python\\python312\\lib\\site-packages (4.12.3)\n",
      "Requirement already satisfied: pandas in c:\\users\\julliet nyaware\\appdata\\local\\programs\\python\\python312\\lib\\site-packages (2.2.3)\n",
      "Requirement already satisfied: charset-normalizer<4,>=2 in c:\\users\\julliet nyaware\\appdata\\local\\programs\\python\\python312\\lib\\site-packages (from requests) (3.4.0)\n",
      "Requirement already satisfied: idna<4,>=2.5 in c:\\users\\julliet nyaware\\appdata\\local\\programs\\python\\python312\\lib\\site-packages (from requests) (3.10)\n",
      "Requirement already satisfied: urllib3<3,>=1.21.1 in c:\\users\\julliet nyaware\\appdata\\local\\programs\\python\\python312\\lib\\site-packages (from requests) (2.2.3)\n",
      "Requirement already satisfied: certifi>=2017.4.17 in c:\\users\\julliet nyaware\\appdata\\local\\programs\\python\\python312\\lib\\site-packages (from requests) (2024.8.30)\n",
      "Requirement already satisfied: soupsieve>1.2 in c:\\users\\julliet nyaware\\appdata\\local\\programs\\python\\python312\\lib\\site-packages (from beautifulsoup4) (2.6)\n",
      "Requirement already satisfied: numpy>=1.26.0 in c:\\users\\julliet nyaware\\appdata\\local\\programs\\python\\python312\\lib\\site-packages (from pandas) (1.26.4)\n",
      "Requirement already satisfied: python-dateutil>=2.8.2 in c:\\users\\julliet nyaware\\appdata\\local\\programs\\python\\python312\\lib\\site-packages (from pandas) (2.9.0.post0)\n",
      "Requirement already satisfied: pytz>=2020.1 in c:\\users\\julliet nyaware\\appdata\\local\\programs\\python\\python312\\lib\\site-packages (from pandas) (2025.1)\n",
      "Requirement already satisfied: tzdata>=2022.7 in c:\\users\\julliet nyaware\\appdata\\local\\programs\\python\\python312\\lib\\site-packages (from pandas) (2025.1)\n",
      "Requirement already satisfied: six>=1.5 in c:\\users\\julliet nyaware\\appdata\\local\\programs\\python\\python312\\lib\\site-packages (from python-dateutil>=2.8.2->pandas) (1.16.0)\n",
      "Note: you may need to restart the kernel to use updated packages.\n"
     ]
    },
    {
     "name": "stderr",
     "output_type": "stream",
     "text": [
      "\n",
      "[notice] A new release of pip is available: 25.0 -> 25.1.1\n",
      "[notice] To update, run: python.exe -m pip install --upgrade pip\n"
     ]
    }
   ],
   "source": [
    "pip install requests beautifulsoup4 pandas"
   ]
  },
  {
   "cell_type": "code",
   "execution_count": 1,
   "id": "5d63de0b-4c6d-4a21-9963-9653ed6787d6",
   "metadata": {},
   "outputs": [],
   "source": [
    "import requests\n",
    "from bs4 import BeautifulSoup\n",
    "import pandas as pd\n",
    "\n",
    "def extract_articles(urls):\n",
    "    articles = []\n",
    "\n",
    "    for url in urls:\n",
    "        try:\n",
    "            response = requests.get(url, timeout=10)\n",
    "            soup = BeautifulSoup(response.text, \"html.parser\")\n",
    "            paragraphs = soup.find_all(\"p\")\n",
    "            content = ' '.join([p.get_text() for p in paragraphs if p.get_text()])\n",
    "            if len(content) > 200:\n",
    "                articles.append(content)\n",
    "        except Exception as e:\n",
    "            print(f\"Failed to extract {url}: {e}\")\n",
    "\n",
    "    return pd.DataFrame({\"article\": articles})"
   ]
  },
  {
   "cell_type": "code",
   "execution_count": 4,
   "id": "10466de4-4f28-44d6-905e-6fcb98e3d5d4",
   "metadata": {},
   "outputs": [],
   "source": [
    "import pandas as pd\n",
    "import re\n",
    "\n",
    "def clean_text(text):\n",
    "    if not isinstance(text, str):\n",
    "        return \"\"\n",
    "\n",
    "    # Remove non-ASCII characters\n",
    "    text = text.encode(\"ascii\", errors=\"ignore\").decode()\n",
    "    # Remove HTML tags/entities if any\n",
    "    text = re.sub(r'<.*?>', ' ', text)                      \n",
    "    text = re.sub(r'&[a-z]+;', ' ', text)              \n",
    "\n",
    "    text = text.lower()\n",
    "    text = re.sub(r'http\\S+|www\\S+', '', text)\n",
    "\n",
    "    # Remove unwanted email addresses and phone numbers\n",
    "    text = re.sub(r'\\S+@\\S+', '', text)\n",
    "    text = re.sub(r'\\(?\\d{3}\\)?[-.\\s]?\\d{3}[-.\\s]?\\d{4}', '', text)\n",
    "\n",
    "    #  keep some punctuation but remove special characters\n",
    "    text = re.sub(r'[^a-zA-Z0-9.,!?\\'\\\" ]+', '', text)\n",
    "    text = re.sub(r'([!?.,]){2,}', r'\\1', text)\n",
    "\n",
    "    # Replace multiple spaces with one\n",
    "    text = re.sub(r'\\s+', ' ', text).strip()\n",
    "\n",
    "    return text\n",
    "\n",
    "def transform_articles(df):\n",
    "    # Drop any rows with null\n",
    "    df = df.dropna(subset=[\"article\"])\n",
    "    df['article'] = df['article'].apply(clean_text)\n",
    "\n",
    "    df = df.drop_duplicates(subset=[\"article\"])\n",
    "\n",
    "    df = df[df['article'].str.len() > 100]\n",
    "\n",
    "    return df\n"
   ]
  },
  {
   "cell_type": "code",
   "execution_count": 5,
   "id": "37ec306d-82c4-49bc-8ae8-6f926bc5c191",
   "metadata": {},
   "outputs": [],
   "source": [
    "def load_to_csv(df, output_path):\n",
    "    df.to_csv(output_path, index=False)\n",
    "    print(f\"Saved cleaned data to {output_path}\")\n"
   ]
  },
  {
   "cell_type": "code",
   "execution_count": 7,
   "id": "2350c098-95ff-4670-b57c-1bf003a65c6c",
   "metadata": {},
   "outputs": [],
   "source": [
    "def run_pipeline():\n",
    "    urls = [\n",
    "       \"https://www.npr.org/2024/12/12/1226579839/winter-storms-flights-delays\",\n",
    "       \"https://www.npr.org/2024/11/05/1223029935/election-day-2024-live-updates\",\n",
    "       \"https://www.bbc.com/news/world-68920595\", \n",
    "       \"https://www.bbc.com/news/business-68911184\",\n",
    "       \"https://edition.cnn.com/2024/12/28/politics/biden-ukraine-congress/index.html\",\n",
    "       \"https://edition.cnn.com/2025/01/03/health/new-weight-loss-drug-approval/index.html\"\n",
    "    ]\n",
    "    \n",
    "    raw_df = extract_articles(urls)\n",
    "    cleaned_df = transform_articles(raw_df)\n",
    "    load_to_csv(cleaned_df, \"cleaned_articles.csv\")"
   ]
  },
  {
   "cell_type": "code",
   "execution_count": 8,
   "id": "fbaee57c-4dce-4d2a-a09c-7b131619caee",
   "metadata": {},
   "outputs": [
    {
     "name": "stdout",
     "output_type": "stream",
     "text": [
      "Saved cleaned data to cleaned_articles.csv\n"
     ]
    }
   ],
   "source": [
    "run_pipeline()"
   ]
  },
  {
   "cell_type": "code",
   "execution_count": null,
   "id": "2b5d9fc8-39ba-47b1-98d2-1fd35dc64c46",
   "metadata": {},
   "outputs": [],
   "source": []
  }
 ],
 "metadata": {
  "kernelspec": {
   "display_name": "Python 3 (ipykernel)",
   "language": "python",
   "name": "python3"
  },
  "language_info": {
   "codemirror_mode": {
    "name": "ipython",
    "version": 3
   },
   "file_extension": ".py",
   "mimetype": "text/x-python",
   "name": "python",
   "nbconvert_exporter": "python",
   "pygments_lexer": "ipython3",
   "version": "3.12.2"
  }
 },
 "nbformat": 4,
 "nbformat_minor": 5
}
