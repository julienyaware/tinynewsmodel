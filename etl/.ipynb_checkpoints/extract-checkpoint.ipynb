{
 "cells": [
  {
   "cell_type": "code",
   "execution_count": null,
   "id": "f791135e-e56f-4988-a954-4779a631b8d5",
   "metadata": {},
   "outputs": [],
   "source": [
    "import requests\n",
    "from bs4 import BeautifulSoup\n",
    "import pandas as pd\n",
    "\n",
    "def extract_articles(urls):\n",
    "    articles = []\n",
    "\n",
    "    for url in urls:\n",
    "        try:\n",
    "            response = requests.get(url, timeout=10)\n",
    "            soup = BeautifulSoup(response.text, \"html.parser\")\n",
    "            paragraphs = soup.find_all(\"p\")\n",
    "            content = ' '.join([p.get_text() for p in paragraphs if p.get_text()])\n",
    "            if len(content) > 200:\n",
    "                articles.append(content)\n",
    "        except Exception as e:\n",
    "            print(f\"Failed to extract {url}: {e}\")\n",
    "\n",
    "    return pd.DataFrame({\"article\": articles})"
   ]
  }
 ],
 "metadata": {
  "kernelspec": {
   "display_name": "Python 3 (ipykernel)",
   "language": "python",
   "name": "python3"
  },
  "language_info": {
   "codemirror_mode": {
    "name": "ipython",
    "version": 3
   },
   "file_extension": ".py",
   "mimetype": "text/x-python",
   "name": "python",
   "nbconvert_exporter": "python",
   "pygments_lexer": "ipython3",
   "version": "3.12.2"
  }
 },
 "nbformat": 4,
 "nbformat_minor": 5
}
