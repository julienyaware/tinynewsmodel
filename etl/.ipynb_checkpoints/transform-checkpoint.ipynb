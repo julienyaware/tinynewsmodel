{
 "cells": [
  {
   "cell_type": "code",
   "execution_count": 1,
   "id": "4cf4664a-341b-4924-9fd3-82522b86c9b1",
   "metadata": {},
   "outputs": [],
   "source": [
    "import pandas as pd\n",
    "import re\n",
    "\n",
    "def clean_text(text):\n",
    "    if not isinstance(text, str):\n",
    "        return \"\"\n",
    "\n",
    "    text = text.encode(\"ascii\", errors=\"ignore\").decode()\n",
    "    text = re.sub(r'<.*?>', ' ', text)                      \n",
    "    text = re.sub(r'&[a-z]+;', ' ', text)              \n",
    "\n",
    "    text = text.lower()\n",
    "    text = re.sub(r'http\\S+|www\\S+', '', text)\n",
    "\n",
    "    # Removeemail addresses and phone numbers\n",
    "    text = re.sub(r'\\S+@\\S+', '', text)\n",
    "    text = re.sub(r'\\(?\\d{3}\\)?[-.\\s]?\\d{3}[-.\\s]?\\d{4}', '', text)\n",
    "    #  keep some punctuation but remove special characters\n",
    "    text = re.sub(r'[^a-zA-Z0-9.,!?\\'\\\" ]+', '', text)\n",
    "    text = re.sub(r'([!?.,]){2,}', r'\\1', text)\n",
    "    # Replace multiple spaces with one\n",
    "    text = re.sub(r'\\s+', ' ', text).strip()\n",
    "\n",
    "    return text\n",
    "\n",
    "def transform_articles(df):\n",
    "    df = df.dropna(subset=[\"article\"])\n",
    "    df['article'] = df['article'].apply(clean_text)\n",
    "\n",
    "    df = df.drop_duplicates(subset=[\"article\"])\n",
    "\n",
    "    df = df[df['article'].str.len() > 100]\n",
    "\n",
    "    return df\n"
   ]
  },
  {
   "cell_type": "code",
   "execution_count": null,
   "id": "b37f798e-5782-4670-8139-6a12c06330af",
   "metadata": {},
   "outputs": [],
   "source": []
  }
 ],
 "metadata": {
  "kernelspec": {
   "display_name": "Python 3 (ipykernel)",
   "language": "python",
   "name": "python3"
  },
  "language_info": {
   "codemirror_mode": {
    "name": "ipython",
    "version": 3
   },
   "file_extension": ".py",
   "mimetype": "text/x-python",
   "name": "python",
   "nbconvert_exporter": "python",
   "pygments_lexer": "ipython3",
   "version": "3.12.2"
  }
 },
 "nbformat": 4,
 "nbformat_minor": 5
}
