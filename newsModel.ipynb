{
 "cells": [
  {
   "cell_type": "code",
   "execution_count": 5,
   "id": "aca7b359-53ff-4973-a3d0-5546dab98466",
   "metadata": {},
   "outputs": [],
   "source": [
    "import pandas as pd\n",
    "from bs4 import BeautifulSoup\n",
    "import re\n"
   ]
  },
  {
   "cell_type": "code",
   "execution_count": 7,
   "id": "ad0300bc-51b6-4dd5-b470-0974decfd589",
   "metadata": {},
   "outputs": [
    {
     "name": "stdout",
     "output_type": "stream",
     "text": [
      "                                             Article      Date  \\\n",
      "0  KARACHI: The Sindh government has decided to b...  1/1/2015   \n",
      "1  HONG KONG: Asian markets started 2015 on an up...  1/2/2015   \n",
      "2  HONG KONG:  Hong Kong shares opened 0.66 perce...  1/5/2015   \n",
      "3  HONG KONG: Asian markets tumbled Tuesday follo...  1/6/2015   \n",
      "4  NEW YORK: US oil prices Monday slipped below $...  1/6/2015   \n",
      "\n",
      "                                             Heading  NewsType  \n",
      "0  sindh govt decides to cut public transport far...  business  \n",
      "1                    asia stocks up in new year trad  business  \n",
      "2           hong kong stocks open 0.66 percent lower  business  \n",
      "3             asian stocks sink euro near nine year   business  \n",
      "4                 us oil prices slip below 50 a barr  business  \n"
     ]
    }
   ],
   "source": [
    "df = pd.read_csv('Articles.csv', encoding='ISO-8859-1')\n",
    "print(df.head())\n"
   ]
  },
  {
   "cell_type": "code",
   "execution_count": 13,
   "id": "471d0191-057c-49e7-b015-eda1f5992985",
   "metadata": {},
   "outputs": [
    {
     "name": "stdout",
     "output_type": "stream",
     "text": [
      "['karachi the sindh government has decided to bring down public transport fares by per cent due to massive reduction in petroleum product prices by the federal government geo news reportedsources said reduction in fares will be applicable on public transport rickshaw taxi and other means of travelingmeanwhile karachi transport ittehad kti has refused to abide by the government decisionkti president irshad bukhari said the commuters are charged the lowest fares in karachi as compare to other parts of the country adding that pc vehicles run on compressed natural gas cng bukhari said karachi transporters will cut fares when decrease in cng prices will be made ', 'hong kong asian markets started on an upswing in limited trading on friday with mainland chinese stocks surging in hong kong on speculation beijing may ease monetary policy to boost slowing growthhong kong rose percent closing points higher at seoul closed up percent rising points to while sydney gained percent or points to close at singapore edged up percent gaining points to markets in mainland china japan taiwan new zealand the philippines and thailand remained closed for holidayswith mainland bourses shut until january shares in chinese developers and financial companies surged in hong kong stoked by hopes that beijing could ease monetary policy to support lagging growth in the worlds secondlargest economychina vanke the countrys biggest developer by sales leapt percent and the peoples insurance company group of china ltd was up percent in afternoon tradingtrainbuilders csr corp and china cnr corp soared csr by percent and china cnr by percent extending gains on december after they announced a merger agreementchinas manufacturing growth dropped in december to its lowest level of an official survey showed thursday as the sector struggles with weak domestic demandchinas official purchasing managers index pmi released by the national bureau of statistics nbs came in at last month down from recorded in novemberthe index which tracks activity in factories and workshops is considered a key indicator of the health of chinas economy a major driver of global growth a figure above signals expansion while anything below indicates contractiongrowth momentum is still insufficient nbs said in a statement investors eye us factory data on forex markets the dollar extended gains ahead of the release of american factory data due later on friday and following a steady stream of good news from the worlds biggest economythe dollar bought yen compared to yen in final trading on wednesdaywall street toasted a banner year in with us equity markets finishing near alltime highsthe euro meanwhile slipped amid growing expectations that the european central bank which meets on january will start buying sovereign bonds the single currency bought compared to in preholiday tradethe ecb has already used several tools to push inflation in member nations back up to the percent annual rate it regards as healthy including asset purchases and making cheap loans available to banksit is also examining the possibility of largescale purchases of sovereign debt socalled quantitative easing qe to help jumpstart the european unions moribund economyoil prices rose on friday with us benchmark west texas intermediate for february delivery rising cents to and brent crude for february gaining cents to the gains in asian trading are likely because of the positive us crude stockpiles data released on wednesday daniel ang investment analyst at phillip futures in singapore told afpus crude reserves fell by million barrels in the week to december the us energy information administration said in its last petroleum report for released on wednesday boosting prices that lost nearly half their value in the second half of the yearthere is growing speculation that the slide in global oil prices the biggest since the financial crisis in may have been excessiveif we do see some supplyside responses or even if theyre anticipated over the course of this first quarter of the year we might find that oil has in fact bottomed michael mccarthy a chief strategist at cmc markets in sydney told bloomberggold was at an ounce compared with in endofyear trading on wednesdayin other markets jakarta ended up percent or points at coal firm indo tambangraya megah gained percent to rupiah while miner aneka tambang slipped percent to rupiah malaysias main stock index shed percent or points to close at malayan banking lost percent to ringgit public bank slipped percent to while top globe added percent ringgit singapore rose percent or points to agribusiness company wilmar international gained percent to sg while real estate developer capitaland dipped percent to sg mumbai gained percent or points to end at housing development finance corp rose percent to rupees while mahindra mahindra fell percent to rupees afp ', 'hong kong hong kong shares opened percent lower monday following a tepid lead from wall street as the first full week of the new year kicked offthe benchmark hang seng index dipped points to ', 'hong kong asian markets tumbled tuesday following painful losses in new york and europe while the euro sat near nineyear lows as political uncertainty in greece fanned renewed fears it could leave the eurozoneoil prices which fell below the psychological a barrel mark in us trade edged up marginally but remained under pressure owing to a global supply glut weak demand and a stronger dollartokyo tumbled percent hong kong lost percent sydney eased percent seoul was percent lower while shanghai reversed earlier losses to gain percentthe first full week of the new year got off to a traumatic start for dealers as they bet a january general election in greece will see a victory for the the leftwing syriza partymarkets fear the party will roll back austerity measures required under the imfeu bailout of the country which could in turn lead it to exit the eurozonethe year is barely three trading days old and already the two biggest themes that were predicted to affect the markets this year are making headlines oversupply of commodities and the eurozone evan lucas a markets strategist in melbourne at ig ltd wrote in an email to clients according to bloomberg newsat the weekend der spiegel quoted german government sources as saying they consider greeces exit almost inevitable if syriza wins the snap pollchancellor angela merkel and finance minister wolfgang schaeuble had come to consider athens removal from the bloc would be manageable the magazine saidhowever investors were spooked and on monday greek stocks sank more than percent while the paris madrid and milan exchanges fell more than percent oil below a barrel the dow dived percent the sp fell percent and the nasdaq lost percentin currency trade the euro sank to monday its lowest level since march on tuesday morning the single currency recovered slightly buying the euro was meanwhile at yen against yen in us trade and well down from the yen fridayadding to downward pressure is increased speculation that the european central bank will buy eurozone government bonds to counter deflation risksthe dollar was at yen early tuesday compared with in new york monday and also well down from yen fridayoil prices were marginally up tuesday after slipping below for the first time in more than five years in new yorkus benchmark west texas intermediate for february delivery rose eight cents to while brent crude for february gained cents to wti tapped mondaythe cost of crude has plunged since june as supplies outstrip demand with key consumer china slowing down the eurozone struggling and the dollar in which it is priced strengtheninga decision late last year by the organization of the petroleum exporting countries opec to maintain output despite the glut has also cut into pricesthe fundamentals of oil are unlikely to change in the first half of this year which will see oil bedding down into its bear market for months to come igs lucas saidgold was at an ounce compared with on monday afp ', 'new york us oil prices monday slipped below a barrel for the first time in more than five years as the surging dollar and news of additional supplies extended a sixmonth routus benchmark west texas intermediate for february delivery in free fall since june ended at a barrel down or five percent the contract got as low as a barrel earlier in the session its lowest level since may european benchmark brent oil for february delivery fell to a barrel in londonmondays slide in oil prices followed indications of rising output from key producers russia and iraq at a time when forecasters have trimmed their demand projections due to weak global economic growththe breaching of the psychologically important level also came on a turbulent day for global financial markets us stocks fell nearly two percent approaching the drops in european equity markets as the euro plunged to a nineyear low on revived eurozone worriesa long rally in the greenback which gained percent last year against a basket of major currencies has weighed on the dollarpriced oil market by making crude more expensive for buyers using weaker currenciesoil prices could fall further still analysts saytheres serious concern the bottoms not in yet said kyle cooper managing partner at iaf advisors in houston basically everyone whos taken a stab at the bottom has been wrongoil prices attempted to stabilize during the last two weeks but the fundamentals remain weak said gene mcgillian broker and analyst at tradition energy the market is trying to come to a bottom it could be anybodys guess but it appears we still have more to gofawad razaqzada a technical analyst at forexcom said the drop below a barrel could trigger more selling paving the way for oil to fall as low as or a barrel in the coming weeksweak fundamentalsthe retreat in prices comes on the heels of a multiyear boom in us oil production that has shaken the global petroleum market and put the us in a league with oil giants russia and saudi arabiaother leading producers are also pumping aggressively iraqs oil ministry last week released figures showing that december crude exports reached their highest since meanwhile the organization of the petroleum exporting countries has consistently ruled out action despite the monthslong slide in pricesin november the cartel met in vienna and took no action as key powerbrokers like saudi arabian oil minister ali alnaimi said he preferred for the market to balance itself in december naimi told a middle east publication the group would take the same handsoff approach even if oil fell to a barrelmeanwhile economic growth remains uncertain in europe and in many emerging economies such as china and brazil the international energy agency in december projected global crude inventories could rise by nearly million barrels in the first six months of the agency also cut its demand outlook by more than barrels a day for energy equities by far the worst performing sector in the sp last year suffered more pain monday dow member chevron fell percent while oilservices giant schlumberger lost percentkey us oil companies like conocophillips and shale producer continental resources have cut their drilling budgets for still analysts expect us output to continue to rise this year owing to investments that have already been made that will put more pressure on crude pricesi still think one of the primary drivers of the market is us oil production and i really dont see us oil production growth slowing appreciably in the first quarter cooper said afp ']\n"
     ]
    }
   ],
   "source": [
    "def clean_text(text):\n",
    "    text = BeautifulSoup(text, \"html.parser\").get_text()\n",
    "    text = re.sub(r'http\\S+', '', text)  # Remove URLs\n",
    "    text = re.sub(r'[^a-zA-Z\\s]', '', text)  # Remove non-alphabetic characters\n",
    "    text = text.replace('\\r\\n', ' ').replace('\\n', ' ')  # Replace \\r\\n and \\n with a space\n",
    "    text = re.sub(r'\\s+', ' ', text)  # Replace multiple spaces with a single space\n",
    "    text = text.lower()  # Convert to lowercase\n",
    "    return text\n",
    "\n",
    "cleaned_articles = df['Article'].apply(clean_text).tolist()  # Apply clean_text to each article\n",
    "print(cleaned_articles[:5])\n"
   ]
  },
  {
   "cell_type": "code",
   "execution_count": 16,
   "id": "06b7f365-d568-46bf-acf3-7c7834836a51",
   "metadata": {},
   "outputs": [
    {
     "name": "stdout",
     "output_type": "stream",
     "text": [
      "Cleaned articles have been saved to 'cleaned_articles.txt'.\n"
     ]
    }
   ],
   "source": [
    "df = pd.read_csv(\"Articles.csv\", encoding='ISO-8859-1') \n",
    "\n",
    "def clean_text(text):\n",
    "    text = BeautifulSoup(text, \"html.parser\").get_text() \n",
    "    text = re.sub(r'http\\S+', '', text)  \n",
    "    text = re.sub(r'[^a-zA-Z\\s]', '', text)  s\n",
    "    text = text.replace('\\r\\n', ' ').replace('\\n', ' ')  \n",
    "    text = re.sub(r'\\s+', ' ', text)  \n",
    "    text = text.lower()  \n",
    "    return text\n",
    "\n",
    "cleaned_articles = df['Article'].apply(clean_text).tolist()\n",
    "\n",
    "with open(\"cleaned_articles.txt\", \"w\", encoding='utf-8') as f:\n",
    "    for article in cleaned_articles:\n",
    "        f.write(article + \"\\n\\n\")\n",
    "\n",
    "print(\"Cleaned articles have been saved to 'cleaned_articles.txt'.\")\n"
   ]
  }
 ],
 "metadata": {
  "kernelspec": {
   "display_name": "Python 3 (ipykernel)",
   "language": "python",
   "name": "python3"
  },
  "language_info": {
   "codemirror_mode": {
    "name": "ipython",
    "version": 3
   },
   "file_extension": ".py",
   "mimetype": "text/x-python",
   "name": "python",
   "nbconvert_exporter": "python",
   "pygments_lexer": "ipython3",
   "version": "3.12.2"
  }
 },
 "nbformat": 4,
 "nbformat_minor": 5
}
